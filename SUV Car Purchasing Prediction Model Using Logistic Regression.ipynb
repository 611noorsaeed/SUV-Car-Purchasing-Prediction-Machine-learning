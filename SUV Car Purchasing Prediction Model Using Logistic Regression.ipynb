{
 "cells": [
  {
   "cell_type": "markdown",
   "id": "095f22d6",
   "metadata": {},
   "source": [
    "# SUV Car Purchasing Prediction\n",
    "# Example:                                        \n",
    "There is a dataset given which contains the information of various users obtained from the social networking sites. There is a car making company that has recently launched a new SUV car. So the company wanted to check how many users from the dataset, wants to purchase the car.\n",
    "\n",
    "For this problem, we will build a Machine Learning model using the Logistic regression algorithm. The dataset is shown in the below image. In this problem, we will predict the purchased variable (Dependent Variable) by using age and salary (Independent variables)."
   ]
  },
  {
   "cell_type": "markdown",
   "id": "b7a78462",
   "metadata": {},
   "source": [
    "# Steps in Logistic Regression:                              \n",
    "To implement the Logistic Regression using Python, we will use the same steps as we have done in previous topics of Regression. Below are the steps:\n",
    "\n",
    "Data Pre-processing step                                         \n",
    "Fitting Logistic Regression to the Training set                                  \n",
    "Predicting the test result                                            \n",
    "Test accuracy of the result(Creation of Confusion matrix)                                 \n",
    "Visualizing the test set result.                                    \n",
    "creating website"
   ]
  },
  {
   "cell_type": "code",
   "execution_count": 2,
   "id": "220efc21",
   "metadata": {},
   "outputs": [],
   "source": [
    "import numpy as np\n",
    "import pandas as pd\n",
    "import matplotlib.pyplot as plt"
   ]
  },
  {
   "cell_type": "code",
   "execution_count": 3,
   "id": "cc836dc1",
   "metadata": {},
   "outputs": [],
   "source": [
    "suv_car_df = pd.read_csv('suv_data.csv')"
   ]
  },
  {
   "cell_type": "code",
   "execution_count": 4,
   "id": "1131a39f",
   "metadata": {},
   "outputs": [
    {
     "data": {
      "text/html": [
       "<div>\n",
       "<style scoped>\n",
       "    .dataframe tbody tr th:only-of-type {\n",
       "        vertical-align: middle;\n",
       "    }\n",
       "\n",
       "    .dataframe tbody tr th {\n",
       "        vertical-align: top;\n",
       "    }\n",
       "\n",
       "    .dataframe thead th {\n",
       "        text-align: right;\n",
       "    }\n",
       "</style>\n",
       "<table border=\"1\" class=\"dataframe\">\n",
       "  <thead>\n",
       "    <tr style=\"text-align: right;\">\n",
       "      <th></th>\n",
       "      <th>User ID</th>\n",
       "      <th>Gender</th>\n",
       "      <th>Age</th>\n",
       "      <th>EstimatedSalary</th>\n",
       "      <th>Purchased</th>\n",
       "    </tr>\n",
       "  </thead>\n",
       "  <tbody>\n",
       "    <tr>\n",
       "      <th>0</th>\n",
       "      <td>15624510</td>\n",
       "      <td>Male</td>\n",
       "      <td>19</td>\n",
       "      <td>19000</td>\n",
       "      <td>0</td>\n",
       "    </tr>\n",
       "    <tr>\n",
       "      <th>1</th>\n",
       "      <td>15810944</td>\n",
       "      <td>Male</td>\n",
       "      <td>35</td>\n",
       "      <td>20000</td>\n",
       "      <td>0</td>\n",
       "    </tr>\n",
       "    <tr>\n",
       "      <th>2</th>\n",
       "      <td>15668575</td>\n",
       "      <td>Female</td>\n",
       "      <td>26</td>\n",
       "      <td>43000</td>\n",
       "      <td>0</td>\n",
       "    </tr>\n",
       "    <tr>\n",
       "      <th>3</th>\n",
       "      <td>15603246</td>\n",
       "      <td>Female</td>\n",
       "      <td>27</td>\n",
       "      <td>57000</td>\n",
       "      <td>0</td>\n",
       "    </tr>\n",
       "    <tr>\n",
       "      <th>4</th>\n",
       "      <td>15804002</td>\n",
       "      <td>Male</td>\n",
       "      <td>19</td>\n",
       "      <td>76000</td>\n",
       "      <td>0</td>\n",
       "    </tr>\n",
       "  </tbody>\n",
       "</table>\n",
       "</div>"
      ],
      "text/plain": [
       "    User ID  Gender  Age  EstimatedSalary  Purchased\n",
       "0  15624510    Male   19            19000          0\n",
       "1  15810944    Male   35            20000          0\n",
       "2  15668575  Female   26            43000          0\n",
       "3  15603246  Female   27            57000          0\n",
       "4  15804002    Male   19            76000          0"
      ]
     },
     "execution_count": 4,
     "metadata": {},
     "output_type": "execute_result"
    }
   ],
   "source": [
    "suv_car_df.head()"
   ]
  },
  {
   "cell_type": "code",
   "execution_count": 5,
   "id": "558ad66e",
   "metadata": {},
   "outputs": [
    {
     "data": {
      "text/plain": [
       "(400, 5)"
      ]
     },
     "execution_count": 5,
     "metadata": {},
     "output_type": "execute_result"
    }
   ],
   "source": [
    "suv_car_df.shape"
   ]
  },
  {
   "cell_type": "code",
   "execution_count": 6,
   "id": "b6bbe8c3",
   "metadata": {},
   "outputs": [
    {
     "data": {
      "text/plain": [
       "0      0\n",
       "1      0\n",
       "2      0\n",
       "3      0\n",
       "4      0\n",
       "      ..\n",
       "395    1\n",
       "396    1\n",
       "397    1\n",
       "398    0\n",
       "399    1\n",
       "Name: Purchased, Length: 400, dtype: int64"
      ]
     },
     "execution_count": 6,
     "metadata": {},
     "output_type": "execute_result"
    }
   ],
   "source": [
    "suv_car_df['Purchased']"
   ]
  },
  {
   "cell_type": "markdown",
   "id": "01645708",
   "metadata": {},
   "source": [
    "# Extracting Independent and dependent Variable  "
   ]
  },
  {
   "cell_type": "code",
   "execution_count": 7,
   "id": "c1b98f99",
   "metadata": {},
   "outputs": [],
   "source": [
    "X = suv_car_df.iloc[:,[2,3]]\n",
    "y = suv_car_df.iloc[:,4]"
   ]
  },
  {
   "cell_type": "code",
   "execution_count": 8,
   "id": "f253682c",
   "metadata": {},
   "outputs": [
    {
     "data": {
      "text/plain": [
       "(400, 2)"
      ]
     },
     "execution_count": 8,
     "metadata": {},
     "output_type": "execute_result"
    }
   ],
   "source": [
    "X.shape"
   ]
  },
  {
   "cell_type": "code",
   "execution_count": 9,
   "id": "db14c1fd",
   "metadata": {},
   "outputs": [
    {
     "data": {
      "text/plain": [
       "(400,)"
      ]
     },
     "execution_count": 9,
     "metadata": {},
     "output_type": "execute_result"
    }
   ],
   "source": [
    "y.shape"
   ]
  },
  {
   "cell_type": "markdown",
   "id": "696472f5",
   "metadata": {},
   "source": [
    "# Train Test Split"
   ]
  },
  {
   "cell_type": "code",
   "execution_count": 10,
   "id": "4da5c618",
   "metadata": {},
   "outputs": [],
   "source": [
    "from sklearn.model_selection import train_test_split"
   ]
  },
  {
   "cell_type": "code",
   "execution_count": 11,
   "id": "123b55d9",
   "metadata": {},
   "outputs": [],
   "source": [
    " X_train, X_test, y_train, y_test = train_test_split(X, y, test_size=0.25, random_state=1)"
   ]
  },
  {
   "cell_type": "code",
   "execution_count": 12,
   "id": "58de3453",
   "metadata": {},
   "outputs": [
    {
     "data": {
      "text/plain": [
       "(300, 2)"
      ]
     },
     "execution_count": 12,
     "metadata": {},
     "output_type": "execute_result"
    }
   ],
   "source": [
    "X_train.shape"
   ]
  },
  {
   "cell_type": "code",
   "execution_count": 13,
   "id": "9710fd36",
   "metadata": {},
   "outputs": [
    {
     "data": {
      "text/plain": [
       "(100, 2)"
      ]
     },
     "execution_count": 13,
     "metadata": {},
     "output_type": "execute_result"
    }
   ],
   "source": [
    "X_test.shape"
   ]
  },
  {
   "cell_type": "markdown",
   "id": "d22635b3",
   "metadata": {},
   "source": [
    "# Scalling "
   ]
  },
  {
   "cell_type": "code",
   "execution_count": 14,
   "id": "9fc526f9",
   "metadata": {},
   "outputs": [],
   "source": [
    "from sklearn.preprocessing import StandardScaler\n",
    "sc = StandardScaler()\n",
    "X_train = sc.fit_transform(X_train)\n",
    "X_test = sc.transform(X_test)"
   ]
  },
  {
   "cell_type": "code",
   "execution_count": 15,
   "id": "d459c62d",
   "metadata": {},
   "outputs": [
    {
     "data": {
      "text/plain": [
       "array([[-0.11147471, -1.06666624],\n",
       "       [ 0.18274006, -0.23672956],\n",
       "       [-0.11147471,  1.4527844 ],\n",
       "       [ 0.18274006,  1.57134678],\n",
       "       [-1.09219061,  1.4527844 ],\n",
       "       [ 0.08466847, -0.11816717],\n",
       "       [-1.68062015, -0.97774445],\n",
       "       [ 1.16345596,  0.59320712],\n",
       "       [-0.60183266, -1.51127517],\n",
       "       [ 1.06538437,  2.1345181 ],\n",
       "       [-0.30761789,  0.089317  ],\n",
       "       [ 0.18274006,  0.11895759],\n",
       "       [-0.2095463 ,  0.089317  ],\n",
       "       [ 1.06538437,  1.83811214],\n",
       "       [ 1.55574232,  0.38572295],\n",
       "       [ 1.84995709,  1.89739333],\n",
       "       [ 2.24224345,  0.41536355],\n",
       "       [-0.99411902, -0.32565134],\n",
       "       [-0.89604743,  0.53392593],\n",
       "       [ 2.24224345,  0.97853487],\n",
       "       [ 0.28081165,  0.17823878],\n",
       "       [ 1.26152755,  0.56356653],\n",
       "       [ 0.67309801,  2.07523691],\n",
       "       [ 0.96731278, -0.77026028],\n",
       "       [ 0.7711696 , -1.27415041],\n",
       "       [-1.09219061, -1.60019696],\n",
       "       [ 2.04610027, -0.6516979 ],\n",
       "       [ 1.16345596,  0.14859819],\n",
       "       [ 1.55574232, -1.03702564],\n",
       "       [ 1.45767073,  1.33422201],\n",
       "       [ 0.18274006, -0.79990088],\n",
       "       [-1.77869174,  0.20787938],\n",
       "       [-1.87676333,  0.50428533],\n",
       "       [ 1.94802868,  0.14859819],\n",
       "       [-0.99411902,  0.44500414],\n",
       "       [-0.69990425,  0.32644176],\n",
       "       [-1.48447697, -1.51127517],\n",
       "       [-0.50376107,  0.50428533],\n",
       "       [ 1.26152755, -1.45199398],\n",
       "       [-1.77869174, -1.303791  ],\n",
       "       [ 0.96731278,  2.22343989],\n",
       "       [ 2.04610027,  0.94889427],\n",
       "       [-0.30761789,  1.36386261],\n",
       "       [-1.38640538, -0.08852658],\n",
       "       [ 1.84995709, -0.26637015],\n",
       "       [-0.60183266,  1.4527844 ],\n",
       "       [ 1.06538437, -1.00738505],\n",
       "       [ 0.96731278,  1.30458142],\n",
       "       [ 0.18274006,  0.29680117],\n",
       "       [ 1.45767073, -0.91846326],\n",
       "       [-1.28833379, -0.32565134],\n",
       "       [-0.01340312, -0.47385432],\n",
       "       [ 0.47695483,  0.32644176],\n",
       "       [ 0.86924119, -1.21486922],\n",
       "       [ 0.47695483,  0.11895759],\n",
       "       [-0.01340312, -0.20708896],\n",
       "       [ 2.24224345, -0.79990088],\n",
       "       [-0.11147471, -0.50349492],\n",
       "       [ 2.04610027,  0.7710507 ],\n",
       "       [ 0.57502642,  1.77883095],\n",
       "       [-0.99411902,  0.59320712],\n",
       "       [-1.38640538,  0.38572295],\n",
       "       [ 0.08466847,  1.27494082],\n",
       "       [-0.2095463 , -0.56277611],\n",
       "       [-0.11147471,  0.88961308],\n",
       "       [-0.01340312,  2.22343989],\n",
       "       [-1.09219061, -1.00738505],\n",
       "       [ 0.47695483,  0.0300358 ],\n",
       "       [ 0.57502642,  1.89739333],\n",
       "       [ 0.08466847, -0.56277611],\n",
       "       [ 0.86924119,  0.80069129],\n",
       "       [-0.2095463 , -0.74061968],\n",
       "       [ 0.08466847,  1.30458142],\n",
       "       [ 0.18274006,  0.0596764 ],\n",
       "       [-1.09219061, -0.50349492],\n",
       "       [ 1.65381391,  1.15637844],\n",
       "       [-0.40568948, -0.53313551],\n",
       "       [-1.09219061, -1.57055636],\n",
       "       [-0.69990425,  0.53392593],\n",
       "       [-0.2095463 , -0.26637015],\n",
       "       [-0.79797584, -1.21486922],\n",
       "       [ 0.7711696 , -1.39271279],\n",
       "       [ 0.86924119,  1.4231438 ],\n",
       "       [-0.50376107, -1.51127517],\n",
       "       [-1.48447697,  0.35608236],\n",
       "       [-1.1902622 ,  0.53392593],\n",
       "       [ 1.06538437, -1.06666624],\n",
       "       [-0.2095463 , -0.32565134],\n",
       "       [ 0.96731278, -1.36307219],\n",
       "       [-1.09219061, -1.09630683],\n",
       "       [-0.50376107,  1.95667452],\n",
       "       [ 2.24224345, -1.03702564],\n",
       "       [ 1.45767073, -1.42235339],\n",
       "       [ 0.08466847, -0.41457313],\n",
       "       [-1.1902622 ,  0.62284772],\n",
       "       [ 2.04610027, -0.91846326],\n",
       "       [ 1.16345596,  0.56356653],\n",
       "       [-0.01340312,  0.26716057],\n",
       "       [-0.2095463 ,  0.23751997],\n",
       "       [-0.30761789, -0.77026028]])"
      ]
     },
     "execution_count": 15,
     "metadata": {},
     "output_type": "execute_result"
    }
   ],
   "source": [
    "X_test"
   ]
  },
  {
   "cell_type": "markdown",
   "id": "7ebf62c3",
   "metadata": {},
   "source": [
    "# Train Model"
   ]
  },
  {
   "cell_type": "code",
   "execution_count": 16,
   "id": "2a92c13a",
   "metadata": {},
   "outputs": [],
   "source": [
    "from sklearn.linear_model import LogisticRegression\n",
    "model = LogisticRegression()"
   ]
  },
  {
   "cell_type": "code",
   "execution_count": 17,
   "id": "ec653263",
   "metadata": {},
   "outputs": [
    {
     "data": {
      "text/html": [
       "<style>#sk-container-id-1 {color: black;background-color: white;}#sk-container-id-1 pre{padding: 0;}#sk-container-id-1 div.sk-toggleable {background-color: white;}#sk-container-id-1 label.sk-toggleable__label {cursor: pointer;display: block;width: 100%;margin-bottom: 0;padding: 0.3em;box-sizing: border-box;text-align: center;}#sk-container-id-1 label.sk-toggleable__label-arrow:before {content: \"▸\";float: left;margin-right: 0.25em;color: #696969;}#sk-container-id-1 label.sk-toggleable__label-arrow:hover:before {color: black;}#sk-container-id-1 div.sk-estimator:hover label.sk-toggleable__label-arrow:before {color: black;}#sk-container-id-1 div.sk-toggleable__content {max-height: 0;max-width: 0;overflow: hidden;text-align: left;background-color: #f0f8ff;}#sk-container-id-1 div.sk-toggleable__content pre {margin: 0.2em;color: black;border-radius: 0.25em;background-color: #f0f8ff;}#sk-container-id-1 input.sk-toggleable__control:checked~div.sk-toggleable__content {max-height: 200px;max-width: 100%;overflow: auto;}#sk-container-id-1 input.sk-toggleable__control:checked~label.sk-toggleable__label-arrow:before {content: \"▾\";}#sk-container-id-1 div.sk-estimator input.sk-toggleable__control:checked~label.sk-toggleable__label {background-color: #d4ebff;}#sk-container-id-1 div.sk-label input.sk-toggleable__control:checked~label.sk-toggleable__label {background-color: #d4ebff;}#sk-container-id-1 input.sk-hidden--visually {border: 0;clip: rect(1px 1px 1px 1px);clip: rect(1px, 1px, 1px, 1px);height: 1px;margin: -1px;overflow: hidden;padding: 0;position: absolute;width: 1px;}#sk-container-id-1 div.sk-estimator {font-family: monospace;background-color: #f0f8ff;border: 1px dotted black;border-radius: 0.25em;box-sizing: border-box;margin-bottom: 0.5em;}#sk-container-id-1 div.sk-estimator:hover {background-color: #d4ebff;}#sk-container-id-1 div.sk-parallel-item::after {content: \"\";width: 100%;border-bottom: 1px solid gray;flex-grow: 1;}#sk-container-id-1 div.sk-label:hover label.sk-toggleable__label {background-color: #d4ebff;}#sk-container-id-1 div.sk-serial::before {content: \"\";position: absolute;border-left: 1px solid gray;box-sizing: border-box;top: 0;bottom: 0;left: 50%;z-index: 0;}#sk-container-id-1 div.sk-serial {display: flex;flex-direction: column;align-items: center;background-color: white;padding-right: 0.2em;padding-left: 0.2em;position: relative;}#sk-container-id-1 div.sk-item {position: relative;z-index: 1;}#sk-container-id-1 div.sk-parallel {display: flex;align-items: stretch;justify-content: center;background-color: white;position: relative;}#sk-container-id-1 div.sk-item::before, #sk-container-id-1 div.sk-parallel-item::before {content: \"\";position: absolute;border-left: 1px solid gray;box-sizing: border-box;top: 0;bottom: 0;left: 50%;z-index: -1;}#sk-container-id-1 div.sk-parallel-item {display: flex;flex-direction: column;z-index: 1;position: relative;background-color: white;}#sk-container-id-1 div.sk-parallel-item:first-child::after {align-self: flex-end;width: 50%;}#sk-container-id-1 div.sk-parallel-item:last-child::after {align-self: flex-start;width: 50%;}#sk-container-id-1 div.sk-parallel-item:only-child::after {width: 0;}#sk-container-id-1 div.sk-dashed-wrapped {border: 1px dashed gray;margin: 0 0.4em 0.5em 0.4em;box-sizing: border-box;padding-bottom: 0.4em;background-color: white;}#sk-container-id-1 div.sk-label label {font-family: monospace;font-weight: bold;display: inline-block;line-height: 1.2em;}#sk-container-id-1 div.sk-label-container {text-align: center;}#sk-container-id-1 div.sk-container {/* jupyter's `normalize.less` sets `[hidden] { display: none; }` but bootstrap.min.css set `[hidden] { display: none !important; }` so we also need the `!important` here to be able to override the default hidden behavior on the sphinx rendered scikit-learn.org. See: https://github.com/scikit-learn/scikit-learn/issues/21755 */display: inline-block !important;position: relative;}#sk-container-id-1 div.sk-text-repr-fallback {display: none;}</style><div id=\"sk-container-id-1\" class=\"sk-top-container\"><div class=\"sk-text-repr-fallback\"><pre>LogisticRegression()</pre><b>In a Jupyter environment, please rerun this cell to show the HTML representation or trust the notebook. <br />On GitHub, the HTML representation is unable to render, please try loading this page with nbviewer.org.</b></div><div class=\"sk-container\" hidden><div class=\"sk-item\"><div class=\"sk-estimator sk-toggleable\"><input class=\"sk-toggleable__control sk-hidden--visually\" id=\"sk-estimator-id-1\" type=\"checkbox\" checked><label for=\"sk-estimator-id-1\" class=\"sk-toggleable__label sk-toggleable__label-arrow\">LogisticRegression</label><div class=\"sk-toggleable__content\"><pre>LogisticRegression()</pre></div></div></div></div></div>"
      ],
      "text/plain": [
       "LogisticRegression()"
      ]
     },
     "execution_count": 17,
     "metadata": {},
     "output_type": "execute_result"
    }
   ],
   "source": [
    "model.fit(X_train,y_train)"
   ]
  },
  {
   "cell_type": "code",
   "execution_count": 18,
   "id": "0fe80465",
   "metadata": {},
   "outputs": [],
   "source": [
    "train_y_pred = model.predict(X_train)\n",
    "test_y_pred = model.predict(X_test)"
   ]
  },
  {
   "cell_type": "markdown",
   "id": "4d4d1f1c",
   "metadata": {},
   "source": [
    "# Accuracy Score of Model:"
   ]
  },
  {
   "cell_type": "code",
   "execution_count": 19,
   "id": "3e3a85b5",
   "metadata": {},
   "outputs": [
    {
     "name": "stdout",
     "output_type": "stream",
     "text": [
      "Train set accuracy is : 0.8433333333333334\n",
      "Test set accuracy is  0.83\n"
     ]
    }
   ],
   "source": [
    "from sklearn.metrics import accuracy_score\n",
    "print(\"Train set accuracy is :\",accuracy_score(train_y_pred,y_train))\n",
    "print('Test set accuracy is ',accuracy_score(test_y_pred,y_test))"
   ]
  },
  {
   "cell_type": "markdown",
   "id": "e525996f",
   "metadata": {},
   "source": [
    "# Confusion Metrics"
   ]
  },
  {
   "cell_type": "code",
   "execution_count": 20,
   "id": "6cc1530c",
   "metadata": {},
   "outputs": [],
   "source": [
    "from sklearn.metrics import confusion_matrix\n",
    "cf = confusion_matrix(y_test,test_y_pred)"
   ]
  },
  {
   "cell_type": "code",
   "execution_count": 21,
   "id": "5af1f03d",
   "metadata": {},
   "outputs": [
    {
     "data": {
      "text/plain": [
       "array([[52,  6],\n",
       "       [11, 31]], dtype=int64)"
      ]
     },
     "execution_count": 21,
     "metadata": {},
     "output_type": "execute_result"
    }
   ],
   "source": [
    "cf"
   ]
  },
  {
   "cell_type": "markdown",
   "id": "eed3c0c9",
   "metadata": {},
   "source": [
    "# Let’s Plot the confusion matrix"
   ]
  },
  {
   "cell_type": "code",
   "execution_count": 22,
   "id": "6d9ac1d1",
   "metadata": {},
   "outputs": [
    {
     "data": {
      "text/plain": [
       "<AxesSubplot:>"
      ]
     },
     "execution_count": 22,
     "metadata": {},
     "output_type": "execute_result"
    },
    {
     "data": {
      "image/png": "[encoded data removed]",
      "text/plain": [
       "<Figure size 640x480 with 2 Axes>"
      ]
     },
     "metadata": {},
     "output_type": "display_data"
    }
   ],
   "source": [
    "import seaborn as sns\n",
    "sns.heatmap(cf,annot=True)"
   ]
  },
  {
   "cell_type": "code",
   "execution_count": null,
   "id": "f02d5d01",
   "metadata": {},
   "outputs": [],
   "source": []
  }
 ],
 "metadata": {
  "kernelspec": {
   "display_name": "Python 3 (ipykernel)",
   "language": "python",
   "name": "python3"
  },
  "language_info": {
   "codemirror_mode": {
    "name": "ipython",
    "version": 3
   },
   "file_extension": ".py",
   "mimetype": "text/x-python",
   "name": "python",
   "nbconvert_exporter": "python",
   "pygments_lexer": "ipython3",
   "version": "3.10.6"
  }
 },
 "nbformat": 4,
 "nbformat_minor": 5
}
